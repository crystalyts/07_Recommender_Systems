{
 "cells": [
  {
   "cell_type": "code",
   "execution_count": 58,
   "id": "11212b93-4355-4e02-9fdd-41daf8fe41ef",
   "metadata": {},
   "outputs": [
    {
     "name": "stderr",
     "output_type": "stream",
     "text": [
      "/Users/crystalyt/opt/anaconda3/lib/python3.9/site-packages/numpy/lib/function_base.py:2845: RuntimeWarning: Degrees of freedom <= 0 for slice\n",
      "  c = cov(x, y, rowvar, dtype=dtype)\n",
      "/Users/crystalyt/opt/anaconda3/lib/python3.9/site-packages/numpy/lib/function_base.py:2704: RuntimeWarning: divide by zero encountered in divide\n",
      "  c *= np.true_divide(1, fact)\n"
     ]
    },
    {
     "data": {
      "text/html": [
       "<div>\n",
       "<style scoped>\n",
       "    .dataframe tbody tr th:only-of-type {\n",
       "        vertical-align: middle;\n",
       "    }\n",
       "\n",
       "    .dataframe tbody tr th {\n",
       "        vertical-align: top;\n",
       "    }\n",
       "\n",
       "    .dataframe thead th {\n",
       "        text-align: right;\n",
       "    }\n",
       "</style>\n",
       "<table border=\"1\" class=\"dataframe\">\n",
       "  <thead>\n",
       "    <tr style=\"text-align: right;\">\n",
       "      <th></th>\n",
       "      <th>PearsonR</th>\n",
       "      <th>rating_count</th>\n",
       "    </tr>\n",
       "    <tr>\n",
       "      <th>title</th>\n",
       "      <th></th>\n",
       "      <th></th>\n",
       "    </tr>\n",
       "  </thead>\n",
       "  <tbody>\n",
       "    <tr>\n",
       "      <th>Up (2009)</th>\n",
       "      <td>0.843750</td>\n",
       "      <td>105</td>\n",
       "    </tr>\n",
       "    <tr>\n",
       "      <th>Die Hard: With a Vengeance (1995)</th>\n",
       "      <td>0.778499</td>\n",
       "      <td>144</td>\n",
       "    </tr>\n",
       "    <tr>\n",
       "      <th>Incredibles, The (2004)</th>\n",
       "      <td>0.776739</td>\n",
       "      <td>125</td>\n",
       "    </tr>\n",
       "    <tr>\n",
       "      <th>Cliffhanger (1993)</th>\n",
       "      <td>0.720577</td>\n",
       "      <td>101</td>\n",
       "    </tr>\n",
       "    <tr>\n",
       "      <th>Catch Me If You Can (2002)</th>\n",
       "      <td>0.719874</td>\n",
       "      <td>115</td>\n",
       "    </tr>\n",
       "  </tbody>\n",
       "</table>\n",
       "</div>"
      ],
      "text/plain": [
       "                                   PearsonR  rating_count\n",
       "title                                                    \n",
       "Up (2009)                          0.843750           105\n",
       "Die Hard: With a Vengeance (1995)  0.778499           144\n",
       "Incredibles, The (2004)            0.776739           125\n",
       "Cliffhanger (1993)                 0.720577           101\n",
       "Catch Me If You Can (2002)         0.719874           115"
      ]
     },
     "execution_count": 58,
     "metadata": {},
     "output_type": "execute_result"
    }
   ],
   "source": [
    "import numpy as np\n",
    "import pandas as pd\n",
    "\n",
    "# Function to generate similar movies recommendations\n",
    "def top_similar_movies(title, n):\n",
    "    # Read input data files\n",
    "    links = pd.read_csv('links.csv')\n",
    "    movies = pd.read_csv('movies.csv')\n",
    "    ratings = pd.read_csv('ratings.csv')\n",
    "    tags = pd.read_csv('tags.csv')\n",
    "\n",
    "    # create df with movie id , title , genres & year\n",
    "    movie_title = movies[['movieId', 'title', 'genres']]\n",
    "\n",
    "    # create df with movie titles & ratings\n",
    "    title_ratings = ratings.merge(movie_title, on=\"movieId\", how='right')\n",
    "\n",
    "    # create rating count column\n",
    "    movie_rating_count = pd.DataFrame(title_ratings.groupby('title')['rating'].count()).rename(columns={'rating':'rating_count'})\n",
    "\n",
    "    # create user-item matrix (user_item_df in previous version)\n",
    "    user_item_title = pd.pivot_table(data=title_ratings, values='rating', index='userId', columns='title')\n",
    "    \n",
    "    movie_ratings = user_item_title.loc[:,title]\n",
    "    similar_to_movie = user_item_title.corrwith(movie_ratings)\n",
    "    corr_movie = pd.DataFrame(similar_to_movie, columns=['PearsonR'])\n",
    "    corr_movie.dropna(inplace=True)\n",
    "    corr_summary = corr_movie.join(movie_rating_count['rating_count'])\n",
    "    corr_summary.drop(title, inplace=True)\n",
    "    top = corr_summary[corr_summary['rating_count']>=100].sort_values('PearsonR', ascending=False).head(n)\n",
    "    return top\n",
    "\n",
    "top_similar_movies('eXistenZ (1999)', 5)"
   ]
  },
  {
   "cell_type": "code",
   "execution_count": null,
   "id": "f83fa76d-77ac-47e5-b8a1-586fd27f89b6",
   "metadata": {},
   "outputs": [],
   "source": []
  }
 ],
 "metadata": {
  "kernelspec": {
   "display_name": "Python 3 (ipykernel)",
   "language": "python",
   "name": "python3"
  },
  "language_info": {
   "codemirror_mode": {
    "name": "ipython",
    "version": 3
   },
   "file_extension": ".py",
   "mimetype": "text/x-python",
   "name": "python",
   "nbconvert_exporter": "python",
   "pygments_lexer": "ipython3",
   "version": "3.9.16"
  }
 },
 "nbformat": 4,
 "nbformat_minor": 5
}
